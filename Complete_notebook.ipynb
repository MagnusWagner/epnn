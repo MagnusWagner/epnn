{
 "cells": [
  {
   "cell_type": "markdown",
   "id": "dca70612",
   "metadata": {},
   "source": [
    "# Loading in the data"
   ]
  },
  {
   "cell_type": "code",
   "execution_count": 2,
   "id": "08a7d4cb-b50d-4f78-8508-d7fdb9464120",
   "metadata": {},
   "outputs": [
    {
     "data": {
      "application/vnd.jupyter.widget-view+json": {
       "model_id": "d9aab6ba12a0452eb08c538524c18215",
       "version_major": 2,
       "version_minor": 0
      },
      "text/plain": [
       "  0%|          | 0/500 [00:00<?, ?it/s]"
      ]
     },
     "metadata": {},
     "output_type": "display_data"
    },
    {
     "data": {
      "text/plain": [
       "DeviceArray([[ 5.5792565,  0.       ,  0.       ],\n",
       "             [ 0.       , 11.83539  ,  0.       ],\n",
       "             [ 0.       ,  0.       ,  0.       ]], dtype=float32)"
      ]
     },
     "execution_count": 2,
     "metadata": {},
     "output_type": "execute_result"
    }
   ],
   "source": [
    "#!/usr/bin/env python\n",
    "\n",
    "import numpy as np\n",
    "import ase.db\n",
    "import jax\n",
    "import jax.numpy as jnp\n",
    "import functools\n",
    "import tqdm.auto\n",
    "import typing\n",
    "from preprocessing import get_cutoff_mask, get_init_charges, get_gaussian_distance_encodings, v_center_at_atoms_diagonal, type_to_charges_dict, SYMBOL_MAP\n",
    "from jax import lax, random, numpy as jnp\n",
    "import optax\n",
    "import jraph\n",
    "from typing import Any, Callable, Sequence, Optional\n",
    "\n",
    "\n",
    "DB_FILE_NAME = \"data/SrTiO3_500.db\"\n",
    "# This is the element-to-type map used for generating the descriptors, which\n",
    "# determines the order of the descriptor vector for each atom.\n",
    "SORTED_ELEMENTS = sorted([\"Sr\", \"Ti\", \"O\"])\n",
    "SYMBOL_MAP = {s: i for i, s in enumerate(SORTED_ELEMENTS)}\n",
    "\n",
    "# 65 Oxygen atoms\n",
    "# 15 Strontium atoms\n",
    "# 25 Titanium atoms\n",
    "type_to_AN_dict = {\n",
    "    0: 8,\n",
    "    1: 38,\n",
    "    2: 22\n",
    "}\n",
    "\n",
    "type_to_charges_dict = {\n",
    "    0: np.float64(-1.15),\n",
    "    1: np.float64(1.83),\n",
    "    2: np.float64(1.892)\n",
    "}\n",
    "\n",
    "# These labels identify each individual configuration in the larger\n",
    "# database this small subsample was extracted from.\n",
    "ind_labels = []\n",
    "# Atom type, from 0 to n_types - 1.\n",
    "types = []\n",
    "# In case we want to use them for the electron-passing NN.\n",
    "atomic_numbers = []\n",
    "# Positions of each atom in each configuration, in Cartesian coordinates\n",
    "# expressed in Å.\n",
    "positions = []\n",
    "# There are periodic boundary conditions in effect along the X and Y \n",
    "# directions. The length of the simulation box along those directions\n",
    "# is stored in the elements [0, 0] and [1, 1] of the 3x3 matrices\n",
    "# stored in this array. Although there is a cell matrix for each\n",
    "# configuration, they are all the same in this case. The units are also\n",
    "# Å. The [2, 2] element is immaterial, and the rest are zero.\n",
    "cell_lengths = []\n",
    "# Spherical Bessel descriptors for each atom, generated using the following\n",
    "# parameters:\n",
    "# N_MAX = 5\n",
    "# R_CUT = 5.5\n",
    "descriptors = []\n",
    "# DDEC6 charges that we will try to predict,\n",
    "charges = []\n",
    "\n",
    "cell_size = np.array([])\n",
    "\n",
    "with ase.db.connect(DB_FILE_NAME) as db:\n",
    "    for idx, row in enumerate(tqdm.auto.tqdm(db.select(), total=db.count())):\n",
    "        ind_labels.append(row[\"ind_label\"])\n",
    "        descriptors.append(row[\"data\"][\"bessel_descriptors\"])\n",
    "        charges.append(row[\"data\"][\"ddec6_charges\"])\n",
    "\n",
    "        atoms = row.toatoms()\n",
    "        symbols = atoms.get_chemical_symbols()\n",
    "        types.append([SYMBOL_MAP[s] for s in symbols])\n",
    "        atomic_numbers.append(atoms.get_atomic_numbers())\n",
    "        positions.append(atoms.get_positions())\n",
    "        cell_lengths.append(atoms.cell.lengths())\n",
    "        cell_size = atoms.cell\n",
    "\n",
    "            \n",
    "\n",
    "# def get_cell_lengths(cell):\n",
    "#     return jnp.array(cell.lengths())\n",
    "\n",
    "# v_get_cell_lengths = jnp.vectorize(get_cell_lengths)\n",
    "\n",
    "descriptors = jnp.asarray(descriptors)\n",
    "charges = jnp.asarray(charges)\n",
    "types = jnp.asarray(types)\n",
    "atomic_numbers = jnp.asarray(atomic_numbers)\n",
    "positions = jnp.asarray(positions)\n",
    "# Check if all cell sizes are the same!\n",
    "# If they are not, we need to use the correct ones for each distance calculation\n",
    "cell_size = np.array(cell_size)\n",
    "# Run this as cell size of z-axis is irrelevant\n",
    "cell_size[2,2]=0.0\n",
    "cell_size = jnp.array(cell_size)\n",
    "cell_lengths = jnp.array(cell_lengths)\n",
    "cell_size\n",
    "\n",
    "# if np.array([cells[i]==cells[0] for i in range(len(cells))]).flatten().all():\n",
    "#     cell_size = cells[0]"
   ]
  },
  {
   "cell_type": "markdown",
   "id": "ce4b534b",
   "metadata": {},
   "source": [
    "### Cell Size\n",
    "The cell size is the size of the elemental cell in three dimensions"
   ]
  },
  {
   "cell_type": "code",
   "execution_count": 2,
   "id": "9e35adc8",
   "metadata": {},
   "outputs": [
    {
     "data": {
      "text/plain": [
       "(500, 3)"
      ]
     },
     "execution_count": 2,
     "metadata": {},
     "output_type": "execute_result"
    }
   ],
   "source": [
    "cell_lengths.shape"
   ]
  },
  {
   "cell_type": "markdown",
   "id": "0e234585",
   "metadata": {},
   "source": [
    "### Bessel descriptors \n",
    "\n",
    "The Bessel descriptors describe the dynamics of the system with a 6x21 array for each atom in the slab. The first dimension describes the complete set of possible element-element pairs. The second axis describes angular and radial indices.\n",
    "\n",
    "Can be treated as black box."
   ]
  },
  {
   "cell_type": "code",
   "execution_count": 52,
   "id": "3d7f0993",
   "metadata": {},
   "outputs": [
    {
     "data": {
      "text/plain": [
       "(500, 105, 6, 21)"
      ]
     },
     "execution_count": 52,
     "metadata": {},
     "output_type": "execute_result"
    }
   ],
   "source": [
    "descriptors.shape"
   ]
  },
  {
   "cell_type": "markdown",
   "id": "46c6e789",
   "metadata": {},
   "source": [
    "### Charges\n",
    "\n",
    "The charges are the target values to predict."
   ]
  },
  {
   "cell_type": "code",
   "execution_count": 4,
   "id": "13c6016f",
   "metadata": {},
   "outputs": [
    {
     "data": {
      "text/plain": [
       "(500, 105)"
      ]
     },
     "execution_count": 4,
     "metadata": {},
     "output_type": "execute_result"
    }
   ],
   "source": [
    "charges.shape"
   ]
  },
  {
   "cell_type": "markdown",
   "id": "3bece58c",
   "metadata": {},
   "source": [
    "The types describe the elements as categorical integers. The atomic numbers are described by their name. "
   ]
  },
  {
   "cell_type": "code",
   "execution_count": 54,
   "id": "771e82c8",
   "metadata": {},
   "outputs": [],
   "source": [
    "types[0]\n",
    "atomic_numbers[0]\n",
    "type_to_AN_dict = {\n",
    "    0: 8,\n",
    "    1: 38,\n",
    "    2: 22\n",
    "}"
   ]
  },
  {
   "cell_type": "markdown",
   "id": "538360a0",
   "metadata": {},
   "source": [
    "Positions are 3-dimensional arrays for each atom that describe their position."
   ]
  },
  {
   "cell_type": "code",
   "execution_count": 55,
   "id": "e6d0a03a",
   "metadata": {},
   "outputs": [
    {
     "data": {
      "text/plain": [
       "(500, 105, 3)"
      ]
     },
     "execution_count": 55,
     "metadata": {},
     "output_type": "execute_result"
    }
   ],
   "source": [
    "positions.shape"
   ]
  },
  {
   "cell_type": "code",
   "execution_count": 56,
   "id": "947c9f29",
   "metadata": {},
   "outputs": [],
   "source": [
    "coordinates = positions[0]"
   ]
  },
  {
   "cell_type": "markdown",
   "id": "64a6bd59",
   "metadata": {},
   "source": [
    "# Batch distance calculations with single dimensions"
   ]
  },
  {
   "cell_type": "code",
   "execution_count": 67,
   "id": "156568b3",
   "metadata": {},
   "outputs": [],
   "source": [
    "def calculate_xy_distance(v1: jnp.float32, v2: jnp.float32, cell_length: jnp.float32) -> jnp.float32:\n",
    "    ''' Calculates the the distance of two values over the x- and y-axis with respect to periodic boundary conditions.\n",
    "    Input:\n",
    "        - v1: jnp.float32 - x- or y-value of first atom\n",
    "        - v2: jnp.float32 - x- or y-value of second atom\n",
    "        - cell_length: jnp.float32 - length of the elemental cell in the respective dimension\n",
    "    Output:\n",
    "        - distance in respective dimension\n",
    "    '''\n",
    "    delta = v1-v2\n",
    "    delta = jnp.abs(delta - cell_length*jnp.round(delta/cell_length,0))\n",
    "    return delta\n",
    "\n",
    "v_calculate_xy_distance = jnp.vectorize(calculate_xy_distance, excluded = [2])\n",
    "\n",
    "def calculate_distances(pos1: jnp.array, positions: jnp.array, cell_size: jnp.array):\n",
    "    ''' Calculates the the distance of two atom-positions in the 3D-space of the slab.\n",
    "    Input:\n",
    "        - pos1: jnp.array -> position of first atom\n",
    "        - pos2: jnp.array -> position of second atom\n",
    "        - cell_size: jnp.array -> size of elemental cell\n",
    "    Output:\n",
    "        - euclidean distance with respect to periodic boundary conditions\n",
    "    '''\n",
    "    assert pos1.shape == (3,) and positions.shape == (105,3) and cell_size.shape == (3,)\n",
    "    x_distances = v_calculate_xy_distance(positions[:,0],pos1[0],cell_size[0])\n",
    "    y_distances = v_calculate_xy_distance(positions[:,1],pos1[1],cell_size[1])\n",
    "    z_distances = positions[:,2]-pos1[2]\n",
    "    euclidean_distances = jnp.sqrt(x_distances**2 + y_distances**2 + z_distances**2)\n",
    "    return euclidean_distances\n",
    "\n",
    "@jax.jit\n",
    "def v_calculate_distances(positions: jnp.array, cell_lengths: jnp.array):\n",
    "    ''' Calculates the the pairwise distances of all atom-positions in the 3D-space of the slab.\n",
    "    Input:\n",
    "        - positions: jnp.array -> positions of all atoms \n",
    "        - cell_lengths: jnp.array -> cell lengths repeated to fit batch size\n",
    "    Output:\n",
    "        - pairwise euclidean distances with respect to periodic boundary conditions for all atoms in this batch\n",
    "    '''\n",
    "    vmapped_func = jax.vmap(calculate_distances)\n",
    "    positions_rep = jnp.repeat(positions[np.newaxis,:,:],105, axis=0)\n",
    "    cell_lengths_rep = jnp.repeat(jnp.array(cell_lengths)[jnp.newaxis,:],105, axis=0)\n",
    "    return vmapped_func(positions,positions_rep,cell_lengths_rep)\n",
    "\n",
    "@jax.jit\n",
    "def batch_calculate_distances(batch_positions: jnp.array, batch_cell_lengths: jnp.array):\n",
    "    ''' Calculates the pairwise distance of atoms in the 3D-space of the slab vectorized for a batch.\n",
    "    Input:\n",
    "        - batch_positions: jnp.array -> batch of positions of all atoms \n",
    "        - batch_cell_lengths: jnp.array -> batch of cell lengths of second atom\n",
    "    Output:\n",
    "        - pairwise euclidean distances with respect to periodic boundary conditions for all atoms in all batches\n",
    "    '''\n",
    "    batch_v_calculate_distances = jax.vmap(v_calculate_distances)\n",
    "    batch_distances = batch_v_calculate_distances(batch_positions, batch_cell_lengths)\n",
    "    return batch_distances\n",
    "\n",
    "test_primitive = batch_calculate_distances(positions, cell_lengths)"
   ]
  },
  {
   "cell_type": "markdown",
   "id": "f3572ddb",
   "metadata": {},
   "source": [
    "# Batch distance calculations with jnp.einsum"
   ]
  },
  {
   "cell_type": "code",
   "execution_count": 68,
   "id": "2b4b8881",
   "metadata": {},
   "outputs": [],
   "source": [
    "from functools import partial\n",
    "@partial(jax.jit, static_argnums=(1,))\n",
    "def jit_linalg(input, axis):\n",
    "    return jnp.linalg.norm(input, axis=axis)\n",
    "\n",
    "@jax.jit\n",
    "def center_at_atoms(coordinates: jnp.ndarray, cell_size: jnp.ndarray):\n",
    "    delta = coordinates - coordinates[:, jnp.newaxis, :]\n",
    "    delta -= jnp.einsum(\n",
    "        \"ijk,kl\",\n",
    "        jnp.round(jnp.einsum(\"ijk,kl\", delta, jnp.linalg.pinv(cell_size))),\n",
    "        cell_size\n",
    "    )    \n",
    "    return jit_linalg(delta,2)\n",
    "\n",
    "def center_at_atoms_diagonal(coordinates: jnp.ndarray, cell_size_diagonal: jnp.ndarray):\n",
    "    delta = coordinates - coordinates[:, jnp.newaxis, :]\n",
    "    zero_indices = cell_size_diagonal == 0.\n",
    "    icell_size_diagonal = jnp.where(zero_indices, 0., 1. / jnp.where(zero_indices, 1., cell_size_diagonal))\n",
    "    delta -= cell_size_diagonal * jnp.round(delta * icell_size_diagonal)\n",
    "    return jnp.sqrt(jnp.sum(delta**2, axis=-1))\n",
    "\n",
    "v_center_at_atoms_diagonal = jax.jit(jax.vmap(center_at_atoms_diagonal))\n",
    "\n",
    "\n",
    "# Vectorized version with vmap\n",
    "v_center_at_atoms = jax.jit(jax.vmap(center_at_atoms))\n",
    "cell_size_rep = jnp.repeat(jnp.array(cell_size)[jnp.newaxis,:],500, axis=0)\n",
    "cell_size_diag_rep = jnp.repeat(jnp.diag(cell_size)[jnp.newaxis,:],500, axis=0)\n",
    "test_einsum = v_center_at_atoms(positions,cell_size_rep)\n",
    "test_diag_center = v_center_at_atoms_diagonal(positions,jnp.repeat(jnp.diag(cell_size)[jnp.newaxis,:],500, axis=0))"
   ]
  },
  {
   "cell_type": "code",
   "execution_count": 59,
   "id": "6242b0e5",
   "metadata": {},
   "outputs": [
    {
     "name": "stdout",
     "output_type": "stream",
     "text": [
      "9.68 ms ± 79.7 µs per loop (mean ± std. dev. of 7 runs, 100 loops each)\n"
     ]
    }
   ],
   "source": [
    "%timeit test_einsum = v_center_at_atoms(positions,cell_size_rep)"
   ]
  },
  {
   "cell_type": "code",
   "execution_count": 60,
   "id": "e9e0b296",
   "metadata": {},
   "outputs": [
    {
     "name": "stdout",
     "output_type": "stream",
     "text": [
      "136 µs ± 4.69 µs per loop (mean ± std. dev. of 7 runs, 10000 loops each)\n"
     ]
    }
   ],
   "source": [
    "%timeit test_diag_center = v_center_at_atoms_diagonal(positions,cell_size_diag_rep)"
   ]
  },
  {
   "cell_type": "code",
   "execution_count": 61,
   "id": "fde5eaff",
   "metadata": {},
   "outputs": [
    {
     "name": "stdout",
     "output_type": "stream",
     "text": [
      "142 µs ± 4.13 µs per loop (mean ± std. dev. of 7 runs, 10000 loops each)\n"
     ]
    }
   ],
   "source": [
    "%timeit test_primitive = batch_calculate_distances(positions, cell_lengths)"
   ]
  },
  {
   "cell_type": "code",
   "execution_count": 265,
   "id": "1b4dd665",
   "metadata": {},
   "outputs": [
    {
     "name": "stdout",
     "output_type": "stream",
     "text": [
      "True\n",
      "True\n",
      "True\n"
     ]
    }
   ],
   "source": [
    "print((test_einsum == test_primitive).all())\n",
    "print((test_diag_center == test_primitive).all())\n",
    "print((test_einsum == test_diag_center).all())"
   ]
  },
  {
   "cell_type": "markdown",
   "id": "b9f42fe3",
   "metadata": {},
   "source": [
    "# Smooth Cutoff"
   ]
  },
  {
   "cell_type": "code",
   "execution_count": 71,
   "id": "55466148",
   "metadata": {},
   "outputs": [
    {
     "name": "stdout",
     "output_type": "stream",
     "text": [
      "[1. 1. 1. ... 0. 0. 0.]\n"
     ]
    },
    {
     "data": {
      "image/png": "[encoded data removed]",
      "text/plain": [
       "<Figure size 432x288 with 1 Axes>"
      ]
     },
     "metadata": {
      "needs_background": "light"
     },
     "output_type": "display_data"
    }
   ],
   "source": [
    "import jax\n",
    "import jax.numpy as jnp\n",
    "import functools\n",
    "import matplotlib\n",
    "import matplotlib.pyplot as plt\n",
    "\n",
    "def _aux_function_f(t):\n",
    "    \"First auxiliary function used in the definition of the smooth bump.\"\n",
    "    return jnp.where(t > 0., jnp.exp(-1. / jnp.where(t > 0., t, 1.)), 0.)\n",
    "\n",
    "\n",
    "def _aux_function_g(t):\n",
    "    \"Second auxiliary function used in the definition of the smooth bump.\"\n",
    "    f_of_t = _aux_function_f(t)\n",
    "    return f_of_t / (f_of_t + _aux_function_f(1. - t))\n",
    "\n",
    "\n",
    "def smooth_cutoff(r, r_switch, r_cut):\n",
    "    \"\"\"One-dimensional smooth cutoff function based on a smooth bump.\n",
    "\n",
    "    This function follows the prescription given by Loring W. Tu in\n",
    "    \"An Introduction to Manifolds\", 2nd Edition, Springer\n",
    "\n",
    "    Args:\n",
    "        r: The radii at which the function must be evaluated.\n",
    "        r_switch: The radius at which the function starts differing from 1.\n",
    "        r_cut: The radius at which the function becomes exactly 0.\n",
    "    \"\"\"\n",
    "    r_switch2 = r_switch * r_switch\n",
    "    r_cut2 = r_cut * r_cut\n",
    "\n",
    "    return 1. - _aux_function_g((r * r - r_switch2) / (r_cut2 - r_switch2))\n",
    "\n",
    "\n",
    "\n",
    "\n",
    "\n",
    "R_SWITCH = 0.5\n",
    "R_CUT = 5.0\n",
    "N_DERIVATIVES = 3\n",
    "\n",
    "test_cutoff = functools.partial(smooth_cutoff,\n",
    "                                r_switch=R_SWITCH,\n",
    "                                r_cut=R_CUT)\n",
    "\n",
    "distance = jnp.linspace(0., R_CUT, num=1001)\n",
    "to_plot = test_cutoff\n",
    "for order in range(N_DERIVATIVES + 1):\n",
    "    samples = jax.jit(jax.vmap(to_plot))(distance)\n",
    "    print(samples)\n",
    "    samples /= jnp.fabs(samples).max()\n",
    "    plt.plot(distance, samples, label=f\"Normalized order {order} derivative\")\n",
    "    break\n",
    "    to_plot = jax.grad(to_plot)\n",
    "\n",
    "plt.xlabel(\"Distance\")\n",
    "plt.legend(loc=\"best\")\n",
    "plt.tight_layout()\n",
    "plt.show()"
   ]
  },
  {
   "cell_type": "code",
   "execution_count": 272,
   "id": "5a0a7e7f",
   "metadata": {},
   "outputs": [
    {
     "name": "stdout",
     "output_type": "stream",
     "text": [
      "Mu-Shape (500, 105, 105, 48)\n",
      "BD-Shape (500, 105, 105, 48)\n",
      "e-enc shape (500, 105, 105, 48)\n"
     ]
    }
   ],
   "source": [
    "batched_distances = test_diag_center\n",
    "import importlib\n",
    "importlib.reload(preprocessing)\n",
    "x = preprocessing.get_gaussian_distance_encodings(batched_distances)"
   ]
  },
  {
   "cell_type": "markdown",
   "id": "41ffbb6a",
   "metadata": {},
   "source": [
    "# Cutoff from EPNN Github"
   ]
  },
  {
   "cell_type": "code",
   "execution_count": 275,
   "id": "97d737e7",
   "metadata": {},
   "outputs": [
    {
     "data": {
      "image/png": "[encoded data removed]",
      "text/plain": [
       "<Figure size 432x288 with 1 Axes>"
      ]
     },
     "metadata": {
      "needs_background": "light"
     },
     "output_type": "display_data"
    }
   ],
   "source": [
    "cutoff = 3.0\n",
    "distance = np.array(distance)\n",
    "C = (np.cos(np.pi * (distance - 0.0) / cutoff) + 1.0) / 2.0\n",
    "C[distance >= cutoff] = 0.0\n",
    "C[distance <= 0.0] = 1.0\n",
    "plt.plot(distance, C)\n",
    "plt.show()"
   ]
  },
  {
   "cell_type": "code",
   "execution_count": 286,
   "id": "f64a20fb",
   "metadata": {},
   "outputs": [
    {
     "name": "stderr",
     "output_type": "stream",
     "text": [
      "WARNING:matplotlib.legend:No artists with labels found to put in legend.  Note that artists whose label start with an underscore are ignored when legend() is called with no argument.\n"
     ]
    },
    {
     "data": {
      "image/png": "[encoded data removed]",
      "text/plain": [
       "<Figure size 432x288 with 1 Axes>"
      ]
     },
     "metadata": {
      "needs_background": "light"
     },
     "output_type": "display_data"
    }
   ],
   "source": [
    "eta= 10\n",
    "mus = np.linspace(0.1,1.5, 10)\n",
    "for mu in mus:\n",
    "    y = C*np.exp(-eta * (distance-mu)**2)\n",
    "    plt.plot(distance, y)\n",
    "plt.legend()\n",
    "plt.xlim((0,3))\n",
    "plt.show()"
   ]
  },
  {
   "cell_type": "markdown",
   "id": "44d31f18",
   "metadata": {},
   "source": [
    "# Our cutoff"
   ]
  },
  {
   "cell_type": "code",
   "execution_count": 264,
   "id": "3158379a",
   "metadata": {},
   "outputs": [
    {
     "data": {
      "image/png": "[encoded data removed]",
      "text/plain": [
       "<Figure size 432x288 with 1 Axes>"
      ]
     },
     "metadata": {
      "needs_background": "light"
     },
     "output_type": "display_data"
    }
   ],
   "source": [
    "mus = np.linspace(0.1,1.5, 10)\n",
    "for mu in mus:\n",
    "    y = jax.jit(jax.vmap(test_cutoff))(distance)*np.exp(-2.0 * (distance-mu)**2)\n",
    "    plt.plot(distance, y)\n",
    "plt.xlim((0,3))\n",
    "plt.show()"
   ]
  },
  {
   "cell_type": "code",
   "execution_count": 3,
   "id": "0d4ef852",
   "metadata": {},
   "outputs": [
    {
     "ename": "NameError",
     "evalue": "name 'preprocessing' is not defined",
     "output_type": "error",
     "traceback": [
      "\u001b[0;31m---------------------------------------------------------------------------\u001b[0m",
      "\u001b[0;31mNameError\u001b[0m                                 Traceback (most recent call last)",
      "\u001b[0;32m/tmp/ipykernel_511/214228086.py\u001b[0m in \u001b[0;36m<module>\u001b[0;34m\u001b[0m\n\u001b[1;32m      1\u001b[0m \u001b[0;32mimport\u001b[0m \u001b[0mimportlib\u001b[0m\u001b[0;34m\u001b[0m\u001b[0;34m\u001b[0m\u001b[0m\n\u001b[0;32m----> 2\u001b[0;31m \u001b[0mimportlib\u001b[0m\u001b[0;34m.\u001b[0m\u001b[0mreload\u001b[0m\u001b[0;34m(\u001b[0m\u001b[0mpreprocessing\u001b[0m\u001b[0;34m)\u001b[0m\u001b[0;34m\u001b[0m\u001b[0;34m\u001b[0m\u001b[0m\n\u001b[0m\u001b[1;32m      3\u001b[0m preprocessing.get_init_charges(types,\n\u001b[1;32m      4\u001b[0m                                 \u001b[0;34m\"specific\"\u001b[0m\u001b[0;34m,\u001b[0m\u001b[0;34m\u001b[0m\u001b[0;34m\u001b[0m\u001b[0m\n\u001b[1;32m      5\u001b[0m                                 \u001b[0mtype_to_charges_dict\u001b[0m\u001b[0;34m,\u001b[0m\u001b[0;34m\u001b[0m\u001b[0;34m\u001b[0m\u001b[0m\n",
      "\u001b[0;31mNameError\u001b[0m: name 'preprocessing' is not defined"
     ]
    }
   ],
   "source": [
    "import importlib\n",
    "importlib.reload(preprocessing)\n",
    "preprocessing.get_init_charges(types,\n",
    "                                \"specific\",\n",
    "                                type_to_charges_dict,\n",
    "                                jnp.zeros(500))\n",
    "preprocessing.get_init_charges(types,\n",
    "                                \"average\",\n",
    "                                type_to_charges_dict,\n",
    "                                jnp.zeros(500))"
   ]
  },
  {
   "cell_type": "markdown",
   "id": "186e7879",
   "metadata": {},
   "source": [
    "### Transpose operations as examples"
   ]
  },
  {
   "cell_type": "code",
   "execution_count": 306,
   "id": "4254bc07",
   "metadata": {},
   "outputs": [
    {
     "data": {
      "text/plain": [
       "array([[[1, 2, 3],\n",
       "        [1, 2, 3]],\n",
       "\n",
       "       [[4, 5, 6],\n",
       "        [4, 5, 6]]])"
      ]
     },
     "execution_count": 306,
     "metadata": {},
     "output_type": "execute_result"
    }
   ],
   "source": [
    "# 2 atoms\n",
    "A = np.array([\n",
    "    [1,2,3],\n",
    "    [4,5,6]\n",
    "    ])\n",
    "A = np.tile(np.expand_dims(A,1),(1,2,1))\n",
    "A"
   ]
  },
  {
   "cell_type": "code",
   "execution_count": 299,
   "id": "73dee3e4",
   "metadata": {},
   "outputs": [
    {
     "data": {
      "text/plain": [
       "array([[[1, 2, 3],\n",
       "        [4, 5, 6]],\n",
       "\n",
       "       [[1, 2, 3],\n",
       "        [4, 5, 6]]])"
      ]
     },
     "execution_count": 299,
     "metadata": {},
     "output_type": "execute_result"
    }
   ],
   "source": [
    "A_t = A.transpose(1,0,2)\n",
    "A_t"
   ]
  },
  {
   "cell_type": "code",
   "execution_count": 303,
   "id": "3f790fea",
   "metadata": {},
   "outputs": [
    {
     "name": "stdout",
     "output_type": "stream",
     "text": [
      "[[1 2 3]\n",
      " [1 2 3]\n",
      " [4 5 6]\n",
      " [4 5 6]]\n"
     ]
    },
    {
     "data": {
      "text/plain": [
       "array([[1, 2, 3],\n",
       "       [4, 5, 6],\n",
       "       [1, 2, 3],\n",
       "       [4, 5, 6]])"
      ]
     },
     "execution_count": 303,
     "metadata": {},
     "output_type": "execute_result"
    }
   ],
   "source": [
    "A_r = np.reshape(A, [-1, A.shape[-1]])\n",
    "A_t_r = np.reshape(A_t, [-1, A_t.shape[-1]])\n",
    "print(A_r)\n",
    "A_t_r"
   ]
  },
  {
   "cell_type": "code",
   "execution_count": 308,
   "id": "5b6085e6",
   "metadata": {},
   "outputs": [
    {
     "data": {
      "text/plain": [
       "(1, 2, 2, 3)"
      ]
     },
     "execution_count": 308,
     "metadata": {},
     "output_type": "execute_result"
    }
   ],
   "source": [
    "np.reshape(A_r, [-1, 2, 2, 3])"
   ]
  },
  {
   "cell_type": "code",
   "execution_count": 3,
   "id": "78612d5b",
   "metadata": {},
   "outputs": [
    {
     "data": {
      "application/vnd.jupyter.widget-view+json": {
       "model_id": "1794010806a14a02976671fe0c4cda22",
       "version_major": 2,
       "version_minor": 0
      },
      "text/plain": [
       "  0%|          | 0/500 [00:00<?, ?it/s]"
      ]
     },
     "metadata": {},
     "output_type": "display_data"
    }
   ],
   "source": [
    "from preprocessing_jraph import get_init_crystal_states\n",
    "\n",
    "\n",
    "key, subkey = random.split(random.PRNGKey(0))\n",
    "h_dim = 126\n",
    "e_dim = 48\n",
    "layers = [32,32,1] # hidden layers\n",
    "T = 3\n",
    "path = \"data/SrTiO3_500.db\"\n",
    "n_elems = 3\n",
    "\n",
    "\n",
    "descriptors, distances_encoded, init_charges, gt_charges, cutoff_mask = get_init_crystal_states(path, edge_encoding_dim = e_dim, SAMPLE_SIZE = None) # Change sample size to None if all samples should be read."
   ]
  },
  {
   "cell_type": "code",
   "execution_count": 4,
   "id": "95874011",
   "metadata": {},
   "outputs": [],
   "source": [
    "class MLP_flax(nn.Module):\n",
    "# TODO: Question: Do we need the output dimension as another feature?=\n",
    "  features: Sequence[int]\n",
    "  @nn.compact\n",
    "  def __call__(self, x, y):\n",
    "    for feat in self.features[:-1]:\n",
    "      x = nn.relu(nn.Dense(feat)(x))\n",
    "    x = nn.Dense(self.features[-1])(x)\n",
    "    return x\n",
    "\n",
    "model = MLP_flax(layers)"
   ]
  },
  {
   "cell_type": "code",
   "execution_count": 5,
   "id": "e25a966f",
   "metadata": {},
   "outputs": [],
   "source": [
    "x = random.uniform(key, (4,4))\n",
    "y = random.uniform(key, (4,4))\n",
    "init_variables = model.init(subkey, x, y=y)\n",
    "y = model.apply(init_variables, x=x, y=y)\n"
   ]
  },
  {
   "cell_type": "code",
   "execution_count": 43,
   "id": "4f10b034",
   "metadata": {},
   "outputs": [
    {
     "data": {
      "text/plain": [
       "FrozenDict({\n",
       "    params: {\n",
       "        Dense_0: {\n",
       "            bias: (32,),\n",
       "            kernel: (4, 32),\n",
       "        },\n",
       "        Dense_1: {\n",
       "            bias: (32,),\n",
       "            kernel: (32, 32),\n",
       "        },\n",
       "        Dense_2: {\n",
       "            bias: (1,),\n",
       "            kernel: (32, 1),\n",
       "        },\n",
       "    },\n",
       "})"
      ]
     },
     "execution_count": 43,
     "metadata": {},
     "output_type": "execute_result"
    }
   ],
   "source": [
    "jax.tree_map(lambda x: x.shape, init_variables)"
   ]
  },
  {
   "cell_type": "code",
   "execution_count": 6,
   "id": "eb897333",
   "metadata": {},
   "outputs": [
    {
     "data": {
      "text/plain": [
       "(500, 105, 126)"
      ]
     },
     "execution_count": 6,
     "metadata": {},
     "output_type": "execute_result"
    }
   ],
   "source": [
    "descriptors.shape"
   ]
  },
  {
   "cell_type": "markdown",
   "id": "8fcb48b1",
   "metadata": {},
   "source": [
    "# Testing jraph"
   ]
  },
  {
   "cell_type": "code",
   "execution_count": 1,
   "id": "99d2e9ae",
   "metadata": {},
   "outputs": [
    {
     "data": {
      "application/vnd.jupyter.widget-view+json": {
       "model_id": "a561e94ac18e4993b0135de36d7a7528",
       "version_major": 2,
       "version_minor": 0
      },
      "text/plain": [
       "  0%|          | 0/500 [00:00<?, ?it/s]"
      ]
     },
     "metadata": {},
     "output_type": "display_data"
    }
   ],
   "source": [
    "from preprocessing_jraph import get_init_crystal_states\n",
    "# import ase.db\n",
    "import jax\n",
    "import typing\n",
    "# from preprocessing import get_cutoff_mask, get_init_charges, get_gaussian_distance_encodings, v_center_at_atoms_diagonal, type_to_charges_dict, SYMBOL_MAP\n",
    "from jax import lax, random, numpy as jnp\n",
    "import optax\n",
    "import jraph\n",
    "from typing import Any, Callable, Sequence, Optional, Tuple\n",
    "\n",
    "\n",
    "key, subkey = random.split(random.PRNGKey(0))\n",
    "h_dim = 126\n",
    "e_dim = 48\n",
    "layers = [32,32,1] # hidden layers\n",
    "T = 3\n",
    "path = \"data/SrTiO3_500.db\"\n",
    "n_elems = 3\n",
    "R_SWITCH = 0.5\n",
    "R_CUT = 3.0\n",
    "\n",
    "\n",
    "descriptors, distances, distances_encoded, init_charges, gt_charges, cutoff_mask = get_init_crystal_states(path, edge_encoding_dim = e_dim, SAMPLE_SIZE = None, r_switch = 0.5, r_cut = 5.0) # Change sample size to None if all samples should be read."
   ]
  },
  {
   "cell_type": "code",
   "execution_count": 10,
   "id": "6e443deb",
   "metadata": {},
   "outputs": [],
   "source": [
    "def create_implicitly_batched_graphsTuple_with_encoded_distances(descriptors, distances, distances_encoded, init_charges, cutoff_mask, cutoff = R_CUT):\n",
    "    batch_size = descriptors.shape[0]\n",
    "    natom = descriptors.shape[1]\n",
    "    # Reshaping the descriptors to go over the whole batch\n",
    "    descriptors = jnp.reshape(descriptors,(batch_size*natom,descriptors.shape[2]))\n",
    "    \n",
    "    # to calculate the number of edges for each individual graph\n",
    "    distances_flattened_batchwise = jnp.reshape(distances,(batch_size,natom*natom))\n",
    "    n_edges = jnp.count_nonzero(jnp.logical_and(distances_flattened_batchwise > 0, distances_flattened_batchwise < cutoff),axis=1)\n",
    "    n_nodes = jnp.repeat(jnp.array([natom]),batch_size)\n",
    "    # Create a flattened index over all previously diagonal elements to be able to delete them from the flattened arrays.\n",
    "    flatten_idx = jnp.nonzero(jnp.logical_and(distances.flatten() > 0, distances.flatten() < cutoff))[0]\n",
    "    idx = jnp.nonzero(jnp.logical_and(distances.flatten() > 0, distances.flatten() < cutoff))[0]\n",
    "    # Make sure that there are only edges between nodes of the same graph\n",
    "    # Batch range to add onto the tiled outer products\n",
    "    batch_range = jnp.reshape(jnp.repeat(jnp.arange(batch_size)*natom,natom*natom),(batch_size,natom,natom))\n",
    "    # outer product over the atoms\n",
    "    outer = jnp.tile(jnp.outer(jnp.ones(natom),jnp.arange(natom)).astype(jnp.int32),batch_size).reshape(batch_size,natom,natom)\n",
    "    # transposed for the other variant\n",
    "    outer_transposed = jnp.transpose(outer, axes=(0,2,1))\n",
    "    senders = jnp.add(outer_transposed,batch_range).flatten()[flatten_idx]\n",
    "    receivers = jnp.add(outer,batch_range).flatten()[flatten_idx]\n",
    "    sender_descriptors = descriptors[senders,:]\n",
    "    receiver_descriptors = descriptors[senders,:]\n",
    "    # Encoded distances are also flattened. Combinations of the same node (diagonal) are deleted\n",
    "    graph_edges = jnp.reshape(distances_encoded,(distances_encoded.shape[0]*distances_encoded.shape[1]*distances_encoded.shape[2],48))[flatten_idx,:]\n",
    "    # Same for cutoff_mask\n",
    "    cutoff_mask = cutoff_mask.flatten()[flatten_idx]\n",
    "    # Nodes contain charges\n",
    "    # Edges contain concatenation of descriptors, edge_embeddings and cutoff_mask (which will be removed in the Network)\n",
    "    graph= jraph.GraphsTuple(nodes = init_charges.flatten(),\n",
    "                            # nodes = jnp.concatenate([descriptors,init_charges],axis=-1), Alternative \n",
    "                            senders = senders,\n",
    "                            receivers = receivers,\n",
    "                            edges = jnp.concatenate([receiver_descriptors, sender_descriptors, graph_edges, jnp.expand_dims(cutoff_mask,axis=-1)],axis=-1),\n",
    "                            n_node = n_nodes,\n",
    "                            n_edge = n_edges,\n",
    "                            globals = None)\n",
    "    return graph\n",
    "\n",
    "size = 50\n",
    "graph = create_implicitly_batched_graphsTuple_with_encoded_distances(descriptors[:size],distances[:size], distances_encoded[:size],init_charges[:size],cutoff_mask[:size])\n",
    "graph2 = create_implicitly_batched_graphsTuple_with_encoded_distances(descriptors[size:size*2],distances[size:size*2], distances_encoded[size:size*2],init_charges[size:size*2],cutoff_mask[size:size*2])\n",
    "# graph = create_implicitly_batched_graphsTuple_with_encoded_distances(descriptors,distances, distances_encoded,init_charges,cutoff_mask)"
   ]
  },
  {
   "cell_type": "code",
   "execution_count": 4,
   "id": "e14520dd",
   "metadata": {},
   "outputs": [
    {
     "name": "stdout",
     "output_type": "stream",
     "text": [
      "Nodes-Shape: (5250,)\n",
      "Edges-Shape: (47516, 301)\n",
      "Senders-Length: (47516,)\n",
      "Globals: None\n",
      "n_nodes: [105 105 105 105 105 105 105 105 105 105 105 105 105 105 105 105 105 105\n",
      " 105 105 105 105 105 105 105 105 105 105 105 105 105 105 105 105 105 105\n",
      " 105 105 105 105 105 105 105 105 105 105 105 105 105 105]\n",
      "n_edges: [958 942 926 954 942 950 950 966 974 958 970 934 962 946 942 958 930 958\n",
      " 954 950 954 958 946 938 986 958 946 942 930 954 930 950 966 974 958 958\n",
      " 922 962 958 934 934 938 950 966 946 938 926 954 970 946]\n"
     ]
    }
   ],
   "source": [
    "def print_graph_stats(graph):\n",
    "    print(\"Nodes-Shape:\",graph[0].shape)\n",
    "    print(\"Edges-Shape:\",graph[1].shape)\n",
    "    print(\"Senders-Length:\",graph[2].shape)\n",
    "    print(\"Globals:\",None if graph[4] is None else graph[4].shape)\n",
    "    print(\"n_nodes:\",graph[5])\n",
    "    print(\"n_edges:\",graph[6])\n",
    "\n",
    "print_graph_stats(graph)"
   ]
  },
  {
   "cell_type": "code",
   "execution_count": 13,
   "id": "bb52e49e",
   "metadata": {},
   "outputs": [
    {
     "name": "stdout",
     "output_type": "stream",
     "text": [
      "1.856807 1.8580811\n",
      "3.8308196 3.8638172\n",
      "0.09564987 0.10641497\n",
      "0.0668511 0.096709535\n",
      "0.055792082 0.09580475\n",
      "0.069272935 0.11015806\n",
      "0.0498236 0.095877685\n",
      "0.048439573 0.098490395\n",
      "0.042463552 0.09518825\n",
      "0.04067907 0.09361523\n",
      "0.038109843 0.09509958\n",
      "0.04537543 0.09781234\n",
      "0.042935856 0.09946415\n",
      "0.036875077 0.0985065\n",
      "0.032127447 0.095437154\n",
      "0.033544343 0.098853484\n",
      "0.04245481 0.090950415\n",
      "0.031996608 0.10080125\n",
      "0.030216122 0.097705975\n",
      "0.03690572 0.10382945\n",
      "0.028763974 0.097937055\n"
     ]
    }
   ],
   "source": [
    "import jax.tree_util as tree\n",
    "import haiku as hk\n",
    "\n",
    "def aggregate_edges_for_nodes_fn(edges: jnp.array,\n",
    "                                receivers: jnp.array,\n",
    "                                cutoff_mask: jnp.array,\n",
    "                                n_nodes: int) -> jnp.array:\n",
    "  edges = jnp.multiply(edges,cutoff_mask)\n",
    "  return jax.ops.segment_sum(edges,receivers,n_nodes)\n",
    "\n",
    "\n",
    "class MLP_haiku(hk.Module):\n",
    "  def __init__(self, features: jnp.ndarray):\n",
    "    super().__init__()\n",
    "    self.features = features\n",
    "\n",
    "  def __call__(self, x: jnp.ndarray) -> jnp.ndarray:\n",
    "    layers = []\n",
    "    for feat in self.features[:-1]:\n",
    "      layers.append(hk.Linear(feat))\n",
    "      layers.append(jax.nn.relu)\n",
    "    layers.append(hk.Linear(self.features[-1]))\n",
    "    mlp = hk.Sequential(layers)\n",
    "    return mlp(x)\n",
    "\n",
    "\n",
    "\n",
    "# Adapted from https://github.com/deepmind/jraph/blob/master/jraph/_src/models.py#L506\n",
    "def GraphElectronPassing(aggregate_edges_for_nodes_fn: Callable,\n",
    "                        MLP: Callable,\n",
    "                        h_dim: int = 126) -> Callable:\n",
    "  \"\"\"\n",
    "  Args:\n",
    "    update_node_fn: function used to update the nodes. In the paper a single\n",
    "      layer MLP is used.\n",
    "    aggregate_edges_for_nodes_fn: function used to aggregates the sender nodes.\n",
    "\n",
    "  Returns:\n",
    "    A method that applies a Graph Convolution layer.\n",
    "  \"\"\"\n",
    "\n",
    "  def _ApplyGEP(graph: jraph.GraphsTuple) -> jraph.GraphsTuple:\n",
    "    \"\"\"Applies a Graph Convolution layer.\"\"\"\n",
    "    nodes, edges, receivers, senders, _, _, _ = graph\n",
    "    receiver_descriptors = edges[:,:h_dim]\n",
    "    sender_descriptors=edges[:,h_dim:h_dim*2]\n",
    "    graph_edges = edges[:,h_dim*2:-1]\n",
    "    cutoff_mask = jnp.expand_dims(edges[:,-1],axis=-1)\n",
    "    sender_charges = jnp.expand_dims(nodes[senders],axis=-1)\n",
    "    receiver_charges = jnp.expand_dims(nodes[receivers],axis=-1)\n",
    "    # Neural network forward: NN(q_v, q_w, h_v, h_w, e_vw) from the paper\n",
    "    edges = jnp.concatenate([receiver_charges, sender_charges, receiver_descriptors, sender_descriptors, edges],axis=-1)\n",
    "    edges_reversed = jnp.concatenate([sender_charges, receiver_charges, sender_descriptors, receiver_descriptors, edges],axis=-1)\n",
    "    # Subtraction of both outputs to create electron-passing-output for atom v\n",
    "    MLP_outputs = jnp.subtract(MLP(edges),MLP(edges_reversed))\n",
    "    # aggregate_edges_for_nodes_fn is the weighting function with the cutoff_mask\n",
    "    received_attributes = tree.tree_map(\n",
    "      lambda e: aggregate_edges_for_nodes_fn(e, receivers, cutoff_mask, nodes.shape[0]), MLP_outputs)\n",
    "    nodes = received_attributes.flatten()\n",
    "    return graph._replace(nodes=nodes)\n",
    "  return _ApplyGEP\n",
    "\n",
    "\n",
    "gep_layer = GraphElectronPassing(\n",
    "    aggregate_edges_for_nodes_fn=aggregate_edges_for_nodes_fn,\n",
    "    MLP = lambda n: MLP_haiku(features=[32,32, 1])(n),\n",
    ")\n",
    "\n",
    "model = hk.without_apply_rng(hk.transform(gep_layer))\n",
    "params = model.init(jax.random.PRNGKey(42), graph)\n",
    "true_labels = gt_charges[:size].flatten()\n",
    "opt_init, opt_update = optax.adam(1e-2)\n",
    "opt_state = opt_init(params)\n",
    "\n",
    "out_graph = model.apply(params,graph)\n",
    "# out_graph = model.apply(params,out_graph)\n",
    "# out_graph = model.apply(params,out_graph)\n",
    "\n",
    "\n",
    "@jax.jit\n",
    "def rmse_loss(params: hk.Params, graph: jraph.GraphsTuple, num: int = 2) -> jnp.ndarray:\n",
    "    # hk.fori_loop(0,3, model.apply, graph, params=params)\n",
    "    output = model.apply(params, graph)\n",
    "    for i in range(num-1):\n",
    "      output = model.apply(params, output)\n",
    "    # output = model.apply(params, output)\n",
    "    # output = model.apply(params, output)\n",
    "    return jnp.sqrt(jnp.sum(jnp.square(output[0]-true_labels)/len(true_labels)))\n",
    "\n",
    "@jax.jit\n",
    "def update(params: hk.Params, opt_state) -> Tuple[hk.Params, Any]:\n",
    "    \"\"\"Returns updated params and state.\"\"\"\n",
    "    g = jax.grad(rmse_loss)(params, graph)\n",
    "    updates, opt_state = opt_update(g, opt_state)\n",
    "    return optax.apply_updates(params, updates), opt_state\n",
    "\n",
    "print(rmse_loss(params, graph),rmse_loss(params, graph2)) \n",
    "for i in range(1000):\n",
    "  params, opt_state = update(params, opt_state)\n",
    "  if (i % 50)==0:\n",
    "    print(rmse_loss(params, graph),rmse_loss(params, graph2)) "
   ]
  },
  {
   "cell_type": "code",
   "execution_count": 2,
   "id": "4e2838e0",
   "metadata": {},
   "outputs": [],
   "source": [
    "# def create_graphsTuple_with_encoded_distances(descriptors, distances, distances_encoded, init_charges, cutoff_mask, cutoff = R_CUT):\n",
    "#     natom = descriptors.shape[0]\n",
    "#     # Create a flattened index over all previously diagonal elements to be able to delete them from the flattened arrays. \n",
    "#     flatten_idx = jnp.nonzero(jnp.logical_and(distances > 0, distances < cutoff).flatten())[0]\n",
    "#     senders = jnp.outer(jnp.ones(natom),jnp.arange(natom)).T.flatten()[flatten_idx].astype(jnp.int32)\n",
    "#     receivers = jnp.outer(jnp.ones(natom),jnp.arange(natom)).flatten()[flatten_idx].astype(jnp.int32)\n",
    "#     sender_descriptors = descriptors[senders,:]\n",
    "#     # print(senders,receivers)\n",
    "#     receiver_descriptors = descriptors[senders,:]\n",
    "#     n_nodes = jnp.array([natom])\n",
    "#     n_edges = jnp.array([natom*natom-natom])\n",
    "#     # Encoded distances are also flattened. Combinations of the same node (diagonal) are deleted\n",
    "#     graph_edges = jnp.reshape(distances_encoded,(distances_encoded.shape[0]*distances_encoded.shape[1],48))[flatten_idx,:]\n",
    "#     # Same for cutoff_mask\n",
    "#     cutoff_mask = cutoff_mask.flatten()[flatten_idx]\n",
    "#     # Nodes contain charges\n",
    "#     # Edges contain concatenation of descriptors, edge_embeddings and cutoff_mask (which will be removed in the Network)\n",
    "#     graph= jraph.GraphsTuple(nodes = init_charges,\n",
    "#                             # nodes = jnp.concatenate([descriptors,init_charges],axis=-1), Alternative \n",
    "#                             senders = senders,\n",
    "#                             receivers = receivers,\n",
    "#                             edges = jnp.concatenate([receiver_descriptors, sender_descriptors, graph_edges, jnp.expand_dims(cutoff_mask,axis=-1)],axis=-1),\n",
    "#                             n_node = n_nodes,\n",
    "#                             n_edge = n_edges,\n",
    "#                             globals = None)\n",
    "#     return graph\n",
    "\n",
    "# graph = create_graphsTuple_with_encoded_distances(descriptors[0],distances[0], distances_encoded[0],init_charges[0],cutoff_mask[0])"
   ]
  },
  {
   "cell_type": "code",
   "execution_count": 6,
   "id": "0f102626",
   "metadata": {},
   "outputs": [],
   "source": [
    "# natom = 4\n",
    "# batch_size = 2\n",
    "\n",
    "# batch_range = jnp.reshape(jnp.repeat(jnp.arange(batch_size)*natom,natom*natom),(batch_size,natom,natom))\n",
    "# outer = jnp.tile(jnp.outer(jnp.ones(natom),jnp.arange(natom)).astype(jnp.int32),batch_size).reshape(batch_size,natom,natom)\n",
    "# outer_transposed = jnp.transpose(outer, axes=(0,2,1))\n",
    "# senders = jnp.add(outer_transposed,batch_range).flatten()\n",
    "# receivers = jnp.add(outer,batch_range).flatten()\n",
    "\n",
    "# senders, receivers"
   ]
  }
 ],
 "metadata": {
  "kernelspec": {
   "display_name": "Python 3 (ipykernel)",
   "language": "python",
   "name": "python3"
  },
  "language_info": {
   "codemirror_mode": {
    "name": "ipython",
    "version": 3
   },
   "file_extension": ".py",
   "mimetype": "text/x-python",
   "name": "python",
   "nbconvert_exporter": "python",
   "pygments_lexer": "ipython3",
   "version": "3.8.12"
  }
 },
 "nbformat": 4,
 "nbformat_minor": 5
}
